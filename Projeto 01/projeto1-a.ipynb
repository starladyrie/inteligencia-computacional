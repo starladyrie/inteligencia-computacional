{
 "cells": [
  {
   "cell_type": "markdown",
   "source": [
    "# Projeto 1 - Template Matching\n",
    "## Etapa A\n",
    "Marrielly Chrystina Martines"
   ],
   "metadata": {
    "collapsed": false,
    "pycharm": {
     "name": "#%% md\n"
    }
   }
  },
  {
   "cell_type": "markdown",
   "source": [
    "Fonte: <a href=\"https://www.kaggle.com/datasets/smeschke/four-shapes\">https://www.kaggle.com/datasets/smeschke/four-shapes</a>"
   ],
   "metadata": {
    "collapsed": false,
    "pycharm": {
     "name": "#%% md\n"
    }
   }
  },
  {
   "cell_type": "markdown",
   "source": [
    "## Bibliotecas"
   ],
   "metadata": {
    "collapsed": false,
    "pycharm": {
     "name": "#%% md\n"
    }
   }
  },
  {
   "cell_type": "code",
   "execution_count": 2,
   "outputs": [],
   "source": [
    "%matplotlib inline\n",
    "\n",
    "import os                                           # Interação com o SO\n",
    "import random                                       # Seleção de instâncias aleatórias\n",
    "import cv2 as cv                                    # Biblioteca OpenCV (Visão Computacional)\n",
    "import numpy as np                                  # Biblioteca para operações matemáticas"
   ],
   "metadata": {
    "collapsed": false,
    "pycharm": {
     "name": "#%%\n"
    }
   }
  },
  {
   "cell_type": "markdown",
   "source": [
    "## Importação das imagens"
   ],
   "metadata": {
    "collapsed": false,
    "pycharm": {
     "name": "#%% md\n"
    }
   }
  },
  {
   "cell_type": "code",
   "execution_count": 3,
   "outputs": [],
   "source": [
    "folders = (os.listdir(os.getcwd()+'\\\\shapes'))\n",
    "images = {}\n",
    "for folder in folders:\n",
    "    images[folder] = []\n",
    "    for path in random.sample(os.listdir(os.getcwd()+'\\\\shapes\\\\'+folder), 10):\n",
    "        img = cv.imread(os.getcwd()+'\\\\shapes\\\\'+folder+'\\\\'+path,0)\n",
    "        images[folder].append(img)"
   ],
   "metadata": {
    "collapsed": false,
    "pycharm": {
     "name": "#%%\n"
    }
   }
  },
  {
   "cell_type": "markdown",
   "source": [
    "## Cálculos"
   ],
   "metadata": {
    "collapsed": false,
    "pycharm": {
     "name": "#%% md\n"
    }
   }
  },
  {
   "cell_type": "code",
   "execution_count": 4,
   "outputs": [],
   "source": [
    "results = {}\n",
    "\n",
    "for shape in folders:\n",
    "    shapes = random.sample(images[shape], 4)\n",
    "    shapesArrays = [np.asarray(shape).reshape(-1) for shape in shapes]\n",
    "    shapeTemplate = shapesArrays[0]\n",
    "    shapeEntries = shapesArrays[1::]\n",
    "\n",
    "    results[shape] = {\n",
    "        \"template\": shapeTemplate,\n",
    "        \"entries\": shapeEntries\n",
    "    }"
   ],
   "metadata": {
    "collapsed": false,
    "pycharm": {
     "name": "#%%\n"
    }
   }
  },
  {
   "cell_type": "code",
   "execution_count": 5,
   "outputs": [],
   "source": [
    "for shape in folders:\n",
    "    calcs = {}\n",
    "    for otherShape in folders:\n",
    "        mseResults = [np.square(np.subtract(results[shape]['template'], shapeEntry)).mean() for shapeEntry in results[otherShape]['entries']]\n",
    "        pccResults = [np.corrcoef(results[shape]['template'], shapeEntry)[0, 1] for shapeEntry in results[otherShape]['entries']]\n",
    "\n",
    "        calcs[otherShape] = {\n",
    "            \"mse\": mseResults,\n",
    "            \"pcc\": pccResults\n",
    "        }\n",
    "\n",
    "    results[shape]['calcs'] = calcs"
   ],
   "metadata": {
    "collapsed": false,
    "pycharm": {
     "name": "#%%\n"
    }
   }
  },
  {
   "cell_type": "markdown",
   "source": [
    "## Resultados"
   ],
   "metadata": {
    "collapsed": false,
    "pycharm": {
     "name": "#%% md\n"
    }
   }
  },
  {
   "cell_type": "code",
   "execution_count": 7,
   "outputs": [
    {
     "name": "stdout",
     "output_type": "stream",
     "text": [
      "circle: \n",
      "\tcircle: \n",
      "\t\tMSE 1.4445583333333334\n",
      "\t\tPCC 0.9757252818837779\n",
      "\tsquare: \n",
      "\t\tMSE 1.8590833333333332\n",
      "\t\tPCC 0.8491038332477223\n",
      "\tstar: \n",
      "\t\tMSE 2.198066666666667\n",
      "\t\tPCC 0.6075173339903316\n",
      "\ttriangle: \n",
      "\t\tMSE 2.0403333333333333\n",
      "\t\tPCC 0.658168634775686\n",
      "\n",
      "\n",
      "square: \n",
      "\tcircle: \n",
      "\t\tMSE 1.4751\n",
      "\t\tPCC 0.8749756776048656\n",
      "\tsquare: \n",
      "\t\tMSE 1.812075\n",
      "\t\tPCC 0.8128009628447512\n",
      "\tstar: \n",
      "\t\tMSE 2.099658333333333\n",
      "\t\tPCC 0.5807334532805316\n",
      "\ttriangle: \n",
      "\t\tMSE 1.9697416666666665\n",
      "\t\tPCC 0.6844604914313078\n",
      "\n",
      "\n",
      "star: \n",
      "\tcircle: \n",
      "\t\tMSE 1.9365250000000003\n",
      "\t\tPCC 0.5616151942873983\n",
      "\tsquare: \n",
      "\t\tMSE 2.174\n",
      "\t\tPCC 0.6061288135884152\n",
      "\tstar: \n",
      "\t\tMSE 2.311933333333333\n",
      "\t\tPCC 0.6514874407438586\n",
      "\ttriangle: \n",
      "\t\tMSE 2.0853333333333333\n",
      "\t\tPCC 0.6030550862972612\n",
      "\n",
      "\n",
      "triangle: \n",
      "\tcircle: \n",
      "\t\tMSE 1.6825916666666665\n",
      "\t\tPCC 0.5990772435721056\n",
      "\tsquare: \n",
      "\t\tMSE 1.9027\n",
      "\t\tPCC 0.6194769254994831\n",
      "\tstar: \n",
      "\t\tMSE 2.2289333333333334\n",
      "\t\tPCC 0.5817109734502789\n",
      "\ttriangle: \n",
      "\t\tMSE 1.9247166666666669\n",
      "\t\tPCC 0.5550156967897686\n",
      "\n",
      "\n"
     ]
    }
   ],
   "source": [
    "for shape in folders:\n",
    "    print(f'{shape}: ')\n",
    "    for result in folders:\n",
    "        print(f'\\t{result}: ')\n",
    "        print('\\t\\tMSE', np.array(results[shape]['calcs'][result]['mse']).mean())\n",
    "        print('\\t\\tPCC', np.array(results[shape]['calcs'][result]['pcc']).mean())\n",
    "    print('\\n')"
   ],
   "metadata": {
    "collapsed": false,
    "pycharm": {
     "name": "#%%\n"
    }
   }
  }
 ],
 "metadata": {
  "kernelspec": {
   "display_name": "Python 3",
   "language": "python",
   "name": "python3"
  },
  "language_info": {
   "codemirror_mode": {
    "name": "ipython",
    "version": 2
   },
   "file_extension": ".py",
   "mimetype": "text/x-python",
   "name": "python",
   "nbconvert_exporter": "python",
   "pygments_lexer": "ipython2",
   "version": "2.7.6"
  }
 },
 "nbformat": 4,
 "nbformat_minor": 0
}