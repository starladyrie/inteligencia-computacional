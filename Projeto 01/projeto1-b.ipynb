{
 "cells": [
  {
   "cell_type": "markdown",
   "source": [
    "# Projeto 1 - Template Matching\n",
    "\n",
    "## Etapa B\n",
    "Marrielly Chrystina Martines"
   ],
   "metadata": {
    "collapsed": false,
    "pycharm": {
     "name": "#%% md\n"
    }
   }
  },
  {
   "cell_type": "markdown",
   "source": [
    "Fonte: <a href=\"https://www.dropbox.com/s/fmbq1bpay5joaax/Folhas.zip\">https://www.dropbox.com/s/fmbq1bpay5joaax/Folhas.zip</a>"
   ],
   "metadata": {
    "collapsed": false,
    "pycharm": {
     "name": "#%% md\n"
    }
   }
  },
  {
   "cell_type": "markdown",
   "source": [
    "## Bibliotecas"
   ],
   "metadata": {
    "collapsed": false,
    "pycharm": {
     "name": "#%% md\n"
    }
   }
  },
  {
   "cell_type": "code",
   "execution_count": null,
   "outputs": [],
   "source": [
    "%matplotlib inline\n",
    "\n",
    "import os                                           # Interação com o SO\n",
    "import random                                       # Seleção de instâncias aleatórias\n",
    "import cv2 as cv                                    # Biblioteca OpenCV (Visão Computacional)\n",
    "import numpy as np                                  # Biblioteca para operações matemáticas"
   ],
   "metadata": {
    "collapsed": false,
    "pycharm": {
     "name": "#%%\n"
    }
   }
  },
  {
   "cell_type": "markdown",
   "source": [
    "## Importação das imagens"
   ],
   "metadata": {
    "collapsed": false,
    "pycharm": {
     "name": "#%% md\n"
    }
   }
  },
  {
   "cell_type": "code",
   "execution_count": null,
   "outputs": [],
   "source": [
    "folders = (os.listdir(os.getcwd()+'\\\\leaves'))\n",
    "images = {}\n",
    "dim = (300, 180)\n",
    "for folder in folders:\n",
    "    images[folder] = []\n",
    "    for path in random.sample(os.listdir(os.getcwd()+'\\\\leaves\\\\'+folder), 3):\n",
    "        img = cv.imread(os.getcwd()+'\\\\leaves\\\\'+folder+'\\\\'+path,0)\n",
    "        resized = cv.resize(img, dim, interpolation = cv.INTER_AREA)\n",
    "        images[folder].append(resized)"
   ],
   "metadata": {
    "collapsed": false,
    "pycharm": {
     "name": "#%%\n"
    }
   }
  },
  {
   "cell_type": "markdown",
   "source": [
    "## Cálculos"
   ],
   "metadata": {
    "collapsed": false,
    "pycharm": {
     "name": "#%% md\n"
    }
   }
  },
  {
   "cell_type": "code",
   "execution_count": null,
   "outputs": [],
   "source": [
    "results = {}\n",
    "\n",
    "for leaf in folders:\n",
    "    leaves = random.sample(images[leaf], 3)\n",
    "    leavesArrays = [np.asarray(leaf).reshape(-1) for leaf in leaves]\n",
    "    leafTemplate = leavesArrays[0]\n",
    "    leafEntries = leavesArrays\n",
    "\n",
    "    results[leaf] = {\n",
    "        \"template\": leafTemplate,\n",
    "        \"entries\": leafEntries\n",
    "    }"
   ],
   "metadata": {
    "collapsed": false,
    "pycharm": {
     "name": "#%%\n"
    }
   }
  },
  {
   "cell_type": "code",
   "execution_count": null,
   "outputs": [],
   "source": [
    "for leaf in folders:\n",
    "    calcs = {}\n",
    "    for otherLeaf in folders:\n",
    "        mseResults = [np.square(np.subtract(results[leaf]['template'], leafEntry)).mean() for leafEntry in results[otherLeaf]['entries']]\n",
    "        pccResults = [np.corrcoef(results[leaf]['template'], leafEntry)[0, 1] for leafEntry in results[otherLeaf]['entries']]\n",
    "\n",
    "        calcs[otherLeaf] = {\n",
    "            \"mse\": mseResults,\n",
    "            \"pcc\": pccResults\n",
    "        }\n",
    "\n",
    "    results[leaf]['calcs'] = calcs"
   ],
   "metadata": {
    "collapsed": false,
    "pycharm": {
     "name": "#%%\n"
    }
   }
  },
  {
   "cell_type": "markdown",
   "source": [
    "## Resultados"
   ],
   "metadata": {
    "collapsed": false,
    "pycharm": {
     "name": "#%% md\n"
    }
   }
  },
  {
   "cell_type": "code",
   "execution_count": null,
   "outputs": [],
   "source": [
    "for leaf in folders:\n",
    "    print(f'{leaf}: ')\n",
    "    for result in folders:\n",
    "        print(f'\\t{result}: ')\n",
    "        print('\\t\\tMSE', np.array(results[leaf]['calcs'][result]['mse']).mean())\n",
    "        print('\\t\\tPCC', np.array(results[leaf]['calcs'][result]['pcc']).mean())\n",
    "    print('\\n')"
   ],
   "metadata": {
    "collapsed": false,
    "pycharm": {
     "name": "#%%\n"
    }
   }
  }
 ],
 "metadata": {
  "kernelspec": {
   "display_name": "Python 3",
   "language": "python",
   "name": "python3"
  },
  "language_info": {
   "codemirror_mode": {
    "name": "ipython",
    "version": 2
   },
   "file_extension": ".py",
   "mimetype": "text/x-python",
   "name": "python",
   "nbconvert_exporter": "python",
   "pygments_lexer": "ipython2",
   "version": "2.7.6"
  }
 },
 "nbformat": 4,
 "nbformat_minor": 0
}