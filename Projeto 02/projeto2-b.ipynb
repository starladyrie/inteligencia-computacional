{
 "cells": [
  {
   "cell_type": "markdown",
   "source": [
    "# Projeto 1 - Template Matching\n",
    "\n",
    "## Etapa B\n",
    "Marrielly Chrystina Martines"
   ],
   "metadata": {
    "collapsed": false,
    "pycharm": {
     "name": "#%% md\n"
    }
   }
  },
  {
   "cell_type": "markdown",
   "source": [
    "Fonte: <a href=\"https://www.dropbox.com/s/fmbq1bpay5joaax/Folhas.zip\">https://www.dropbox.com/s/fmbq1bpay5joaax/Folhas.zip</a>"
   ],
   "metadata": {
    "collapsed": false,
    "pycharm": {
     "name": "#%% md\n"
    }
   }
  },
  {
   "cell_type": "markdown",
   "source": [
    "## Bibliotecas"
   ],
   "metadata": {
    "collapsed": false,
    "pycharm": {
     "name": "#%% md\n"
    }
   }
  },
  {
   "cell_type": "code",
   "execution_count": 21,
   "outputs": [],
   "source": [
    "import pandas as pd\n",
    "%matplotlib inline\n",
    "\n",
    "import os                                           # Interação com o SO\n",
    "import random                                       # Seleção de instâncias aleatórias\n",
    "import cv2 as cv                                    # Biblioteca OpenCV (Visão Computacional)\n",
    "import numpy as np                                  # Biblioteca para operações matemáticas\n",
    "from scipy.spatial import distance                  # Biblioteca para calculo da distância Euclidiana"
   ],
   "metadata": {
    "collapsed": false,
    "pycharm": {
     "name": "#%%\n"
    }
   }
  },
  {
   "cell_type": "markdown",
   "source": [
    "## Importação das imagens"
   ],
   "metadata": {
    "collapsed": false,
    "pycharm": {
     "name": "#%% md\n"
    }
   }
  },
  {
   "cell_type": "code",
   "execution_count": 22,
   "outputs": [],
   "source": [
    "folders = (os.listdir(os.getcwd()+'\\\\leaves'))\n",
    "images = {}\n",
    "dim = (300, 180)\n",
    "for folder in folders:\n",
    "    images[folder] = []\n",
    "    for path in random.sample(os.listdir(os.getcwd()+'\\\\leaves\\\\'+folder), 3):\n",
    "        img = cv.imread(os.getcwd()+'\\\\leaves\\\\'+folder+'\\\\'+path,0)\n",
    "        resized = cv.resize(img, dim, interpolation = cv.INTER_AREA)\n",
    "        images[folder].append(resized)"
   ],
   "metadata": {
    "collapsed": false,
    "pycharm": {
     "name": "#%%\n"
    }
   }
  },
  {
   "cell_type": "markdown",
   "source": [
    "## Cálculos"
   ],
   "metadata": {
    "collapsed": false,
    "pycharm": {
     "name": "#%% md\n"
    }
   }
  },
  {
   "cell_type": "code",
   "execution_count": 23,
   "outputs": [],
   "source": [
    "results = {}\n",
    "\n",
    "for folder in folders:\n",
    "    leaves = random.sample(images[folder], 3)\n",
    "    leavesHu = [cv.HuMoments(cv.moments(leaf)).flatten() for leaf in leaves]\n",
    "    leafTemplate = leavesHu[0]\n",
    "    leafEntries = leavesHu\n",
    "\n",
    "    results[folder] = {\n",
    "        \"template\": leafTemplate,\n",
    "        \"entries\": leafEntries\n",
    "    }"
   ],
   "metadata": {
    "collapsed": false,
    "pycharm": {
     "name": "#%%\n"
    }
   }
  },
  {
   "cell_type": "code",
   "execution_count": 24,
   "outputs": [],
   "source": [
    "for leaf in folders:\n",
    "    calcs = {}\n",
    "    for otherLeaf in folders:\n",
    "        euclidianDistance = [distance.euclidean(results[leaf]['template'], leafEntry) for leafEntry in results[otherLeaf]['entries']]\n",
    "\n",
    "        calcs[otherLeaf] = {\n",
    "            \"euclidianDistance\": euclidianDistance,\n",
    "        }\n",
    "\n",
    "    results[leaf]['calcs'] = calcs"
   ],
   "metadata": {
    "collapsed": false,
    "pycharm": {
     "name": "#%%\n"
    }
   }
  },
  {
   "cell_type": "markdown",
   "source": [
    "## Resultados"
   ],
   "metadata": {
    "collapsed": false,
    "pycharm": {
     "name": "#%% md\n"
    }
   }
  },
  {
   "cell_type": "code",
   "execution_count": 25,
   "outputs": [
    {
     "name": "stdout",
     "output_type": "stream",
     "text": [
      "Acer_Capillipes: \n",
      "\tAcer_Capillipes: \n",
      "\t\tDistância Euclidiana [0.00000000e+00 1.03526840e-05 5.04581525e-06]\n",
      "\t\tMédias Distâncias Euclidianas 5.132833087758162e-06\n",
      "\tAcer_Mono: \n",
      "\t\tDistância Euclidiana [0.00017902 0.00025202 0.00024556]\n",
      "\t\tMédias Distâncias Euclidianas 0.0002255374941169498\n",
      "\tAcer_Opalus: \n",
      "\t\tDistância Euclidiana [7.28411352e-05 7.83754044e-05 5.46954382e-05]\n",
      "\t\tMédias Distâncias Euclidianas 6.86373259160757e-05\n",
      "\n",
      "\n",
      "Acer_Mono: \n",
      "\tAcer_Capillipes: \n",
      "\t\tDistância Euclidiana [0.00017902 0.00018938 0.00018407]\n",
      "\t\tMédias Distâncias Euclidianas 0.00018415638388324026\n",
      "\tAcer_Mono: \n",
      "\t\tDistância Euclidiana [0.00000000e+00 7.30008945e-05 6.65409379e-05]\n",
      "\t\tMédias Distâncias Euclidianas 4.651394413473608e-05\n",
      "\tAcer_Opalus: \n",
      "\t\tDistância Euclidiana [0.00010618 0.00010065 0.00012433]\n",
      "\t\tMédias Distâncias Euclidianas 0.00011038622953180549\n",
      "\n",
      "\n",
      "Acer_Opalus: \n",
      "\tAcer_Capillipes: \n",
      "\t\tDistância Euclidiana [7.28411352e-05 8.31938182e-05 7.78869437e-05]\n",
      "\t\tMédias Distâncias Euclidianas 7.797396569828557e-05\n",
      "\tAcer_Mono: \n",
      "\t\tDistância Euclidiana [0.00010618 0.00017918 0.00017272]\n",
      "\t\tMédias Distâncias Euclidianas 0.00015269636226201335\n",
      "\tAcer_Opalus: \n",
      "\t\tDistância Euclidiana [0.00000000e+00 5.53427216e-06 1.81456970e-05]\n",
      "\t\tMédias Distâncias Euclidianas 7.893323050852882e-06\n",
      "\n",
      "\n"
     ]
    }
   ],
   "source": [
    "for leaf in folders:\n",
    "    print(f'{leaf}: ')\n",
    "    for result in folders:\n",
    "        print(f'\\t{result}: ')\n",
    "        print('\\t\\tDistância Euclidiana', np.array(results[leaf]['calcs'][result]['euclidianDistance']))\n",
    "        print('\\t\\tMédias Distâncias Euclidianas', np.array(results[leaf]['calcs'][result]['euclidianDistance']).mean())\n",
    "    print('\\n')"
   ],
   "metadata": {
    "collapsed": false,
    "pycharm": {
     "name": "#%%\n"
    }
   }
  }
 ],
 "metadata": {
  "kernelspec": {
   "display_name": "Python 3",
   "language": "python",
   "name": "python3"
  },
  "language_info": {
   "codemirror_mode": {
    "name": "ipython",
    "version": 2
   },
   "file_extension": ".py",
   "mimetype": "text/x-python",
   "name": "python",
   "nbconvert_exporter": "python",
   "pygments_lexer": "ipython2",
   "version": "2.7.6"
  }
 },
 "nbformat": 4,
 "nbformat_minor": 0
}