{
 "cells": [
  {
   "cell_type": "markdown",
   "source": [
    "# Projeto 2 - Template Matching\n",
    "## Etapa A\n",
    "Marrielly Chrystina Martines"
   ],
   "metadata": {
    "collapsed": false,
    "pycharm": {
     "name": "#%% md\n"
    }
   }
  },
  {
   "cell_type": "markdown",
   "source": [
    "Fonte: <a href=\"https://www.kaggle.com/datasets/smeschke/four-shapes\">https://www.kaggle.com/datasets/smeschke/four-shapes</a>"
   ],
   "metadata": {
    "collapsed": false,
    "pycharm": {
     "name": "#%% md\n"
    }
   }
  },
  {
   "cell_type": "markdown",
   "source": [
    "## Bibliotecas"
   ],
   "metadata": {
    "collapsed": false,
    "pycharm": {
     "name": "#%% md\n"
    }
   }
  },
  {
   "cell_type": "code",
   "execution_count": 14,
   "outputs": [],
   "source": [
    "%matplotlib inline\n",
    "\n",
    "import os                                           # Interação com o SO\n",
    "import random                                       # Seleção de instâncias aleatórias\n",
    "import cv2 as cv                                    # Biblioteca OpenCV (Visão Computacional)\n",
    "import numpy as np                                  # Biblioteca para operações matemáticas\n",
    "from scipy.spatial import distance                  # Biblioteca para calculo da distância Euclidiana"
   ],
   "metadata": {
    "collapsed": false,
    "pycharm": {
     "name": "#%%\n"
    }
   }
  },
  {
   "cell_type": "markdown",
   "source": [
    "## Importação das imagens"
   ],
   "metadata": {
    "collapsed": false,
    "pycharm": {
     "name": "#%% md\n"
    }
   }
  },
  {
   "cell_type": "code",
   "execution_count": 15,
   "outputs": [],
   "source": [
    "folders = (os.listdir(os.getcwd()+'\\\\shapes'))\n",
    "images = {}\n",
    "for folder in folders:\n",
    "    images[folder] = []\n",
    "    for path in random.sample(os.listdir(os.getcwd()+'\\\\shapes\\\\'+folder), 10):\n",
    "        img = cv.imread(os.getcwd()+'\\\\shapes\\\\'+folder+'\\\\'+path,0)\n",
    "        images[folder].append(img)"
   ],
   "metadata": {
    "collapsed": false,
    "pycharm": {
     "name": "#%%\n"
    }
   }
  },
  {
   "cell_type": "markdown",
   "source": [
    "## Cálculos"
   ],
   "metadata": {
    "collapsed": false,
    "pycharm": {
     "name": "#%% md\n"
    }
   }
  },
  {
   "cell_type": "code",
   "execution_count": 16,
   "outputs": [],
   "source": [
    "results = {}\n",
    "\n",
    "for shape in folders:\n",
    "    shapes = random.sample(images[shape], 4)\n",
    "    shapesHu = [cv.HuMoments(cv.moments(shape)).flatten() for shape in shapes]\n",
    "    shapeTemplate = shapesHu[0]\n",
    "    shapeEntries = shapesHu[1::]\n",
    "\n",
    "    results[shape] = {\n",
    "        \"template\": shapeTemplate,\n",
    "        \"entries\": shapeEntries\n",
    "    }"
   ],
   "metadata": {
    "collapsed": false,
    "pycharm": {
     "name": "#%%\n"
    }
   }
  },
  {
   "cell_type": "code",
   "execution_count": 17,
   "outputs": [
    {
     "data": {
      "text/plain": "(array([ 1.05801120e-03,  2.65494975e-12,  8.07064557e-18,  4.59412007e-15,\n        -5.11741925e-31, -2.14858768e-21, -7.21578807e-31]),\n array([ 1.12500466e-03,  6.20272958e-11,  1.10266952e-16,  1.88477574e-14,\n        -6.49028911e-30,  5.60364709e-20,  2.63848780e-29]))"
     },
     "execution_count": 17,
     "metadata": {},
     "output_type": "execute_result"
    }
   ],
   "source": [
    "results['circle']['template'], results['circle']['entries'][0]"
   ],
   "metadata": {
    "collapsed": false,
    "pycharm": {
     "name": "#%%\n"
    }
   }
  },
  {
   "cell_type": "code",
   "execution_count": 18,
   "outputs": [],
   "source": [
    "for shape in folders:\n",
    "    calcs = {}\n",
    "    for otherShape in folders:\n",
    "        euclidianDistance = [distance.euclidean(results[shape]['template'], shapeEntry) for shapeEntry in results[otherShape]['entries']]\n",
    "\n",
    "        calcs[otherShape] = {\n",
    "            \"euclidianDistance\": euclidianDistance,\n",
    "        }\n",
    "\n",
    "    results[shape]['calcs'] = calcs"
   ],
   "metadata": {
    "collapsed": false,
    "pycharm": {
     "name": "#%%\n"
    }
   }
  },
  {
   "cell_type": "markdown",
   "source": [
    "## Resultados"
   ],
   "metadata": {
    "collapsed": false,
    "pycharm": {
     "name": "#%% md\n"
    }
   }
  },
  {
   "cell_type": "code",
   "execution_count": 19,
   "outputs": [
    {
     "name": "stdout",
     "output_type": "stream",
     "text": [
      "circle: \n",
      "\tcircle: \n",
      "\t\tDistância Euclidiana [6.69934644e-05 1.21265911e-04 1.07459879e-04]\n",
      "\t\tMédias Distâncias Euclidianas 9.857308490510761e-05\n",
      "\tsquare: \n",
      "\t\tDistância Euclidiana [7.35319629e-05 9.67008061e-05 5.53292195e-05]\n",
      "\t\tMédias Distâncias Euclidianas 7.518732951244089e-05\n",
      "\tstar: \n",
      "\t\tDistância Euclidiana [0.00020571 0.00020539 0.00023689]\n",
      "\t\tMédias Distâncias Euclidianas 0.0002159973615105148\n",
      "\ttriangle: \n",
      "\t\tDistância Euclidiana [0.00016238 0.00016883 0.00019339]\n",
      "\t\tMédias Distâncias Euclidianas 0.00017486584435902312\n",
      "\n",
      "\n",
      "square: \n",
      "\tcircle: \n",
      "\t\tDistância Euclidiana [0.00010173 0.000156   0.0001422 ]\n",
      "\t\tMédias Distâncias Euclidianas 0.0001333099751656355\n",
      "\tsquare: \n",
      "\t\tDistância Euclidiana [1.08268853e-04 6.19639158e-05 9.00661098e-05]\n",
      "\t\tMédias Distâncias Euclidianas 8.676629293260943e-05\n",
      "\tstar: \n",
      "\t\tDistância Euclidiana [0.00017097 0.00017066 0.00020216]\n",
      "\t\tMédias Distâncias Euclidianas 0.0001812604712499829\n",
      "\ttriangle: \n",
      "\t\tDistância Euclidiana [0.00012764 0.00013409 0.00015865]\n",
      "\t\tMédias Distâncias Euclidianas 0.000140128954098491\n",
      "\n",
      "\n",
      "star: \n",
      "\tcircle: \n",
      "\t\tDistância Euclidiana [0.00031017 0.00036444 0.00035063]\n",
      "\t\tMédias Distâncias Euclidianas 0.00034174670782517676\n",
      "\tsquare: \n",
      "\t\tDistância Euclidiana [0.00031671 0.00014647 0.0002985 ]\n",
      "\t\tMédias Distâncias Euclidianas 0.00025389374836453396\n",
      "\tstar: \n",
      "\t\tDistância Euclidiana [3.74673476e-05 3.77808530e-05 6.28058362e-06]\n",
      "\t\tMédias Distâncias Euclidianas 2.7176261409561693e-05\n",
      "\ttriangle: \n",
      "\t\tDistância Euclidiana [8.07941807e-05 7.43430390e-05 4.97861161e-05]\n",
      "\t\tMédias Distâncias Euclidianas 6.830777856106354e-05\n",
      "\n",
      "\n",
      "triangle: \n",
      "\tcircle: \n",
      "\t\tDistância Euclidiana [0.00023226 0.00028653 0.00027272]\n",
      "\t\tMédias Distâncias Euclidianas 0.0002638356180818479\n",
      "\tsquare: \n",
      "\t\tDistância Euclidiana [2.38794496e-04 6.85617271e-05 2.20591753e-04]\n",
      "\t\tMédias Distâncias Euclidianas 0.00017598265862121292\n",
      "\tstar: \n",
      "\t\tDistância Euclidiana [4.04437422e-05 4.01302367e-05 7.16305061e-05]\n",
      "\t\tMédias Distâncias Euclidianas 5.0734828333819646e-05\n",
      "\ttriangle: \n",
      "\t\tDistância Euclidiana [2.88309092e-06 3.56805079e-06 2.81249737e-05]\n",
      "\t\tMédias Distâncias Euclidianas 1.1525371796271017e-05\n",
      "\n",
      "\n"
     ]
    }
   ],
   "source": [
    "for shape in folders:\n",
    "    print(f'{shape}: ')\n",
    "    for result in folders:\n",
    "        print(f'\\t{result}: ')\n",
    "        print('\\t\\tDistância Euclidiana', np.array(results[shape]['calcs'][result]['euclidianDistance']))\n",
    "        print('\\t\\tMédias Distâncias Euclidianas', np.array(results[shape]['calcs'][result]['euclidianDistance']).mean())\n",
    "    print('\\n')"
   ],
   "metadata": {
    "collapsed": false,
    "pycharm": {
     "name": "#%%\n"
    }
   }
  }
 ],
 "metadata": {
  "kernelspec": {
   "display_name": "Python 3",
   "language": "python",
   "name": "python3"
  },
  "language_info": {
   "codemirror_mode": {
    "name": "ipython",
    "version": 2
   },
   "file_extension": ".py",
   "mimetype": "text/x-python",
   "name": "python",
   "nbconvert_exporter": "python",
   "pygments_lexer": "ipython2",
   "version": "2.7.6"
  }
 },
 "nbformat": 4,
 "nbformat_minor": 0
}